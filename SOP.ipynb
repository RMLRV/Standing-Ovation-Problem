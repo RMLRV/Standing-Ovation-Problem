{
 "cells": [
  {
   "cell_type": "markdown",
   "id": "4c7637ec",
   "metadata": {},
   "source": [
    "# Standing Ovation Problem"
   ]
  },
  {
   "cell_type": "markdown",
   "id": "fd59f94d",
   "metadata": {},
   "source": [
    "The Standing Ovation Problem can be stated as: \n",
    "\n",
    "\"A brilliant economics lecture ends and the audience begins to applaud. The applause builds and tentatively, a few audience members may decide to stand. Does a standing ovation ensue or does the enthusiasm fizzle?\"[1]\n",
    "\n",
    "In this notebook, I will model the Standing Ovation Problem and predict the number of people in the audience who will stand up after the show/talk. For simplicity, the theater is considered as a square lattice."
   ]
  },
  {
   "cell_type": "code",
   "execution_count": 1,
   "id": "bb37dd7a",
   "metadata": {},
   "outputs": [],
   "source": [
    "import numpy as np\n",
    "import matplotlib.pyplot as plt"
   ]
  },
  {
   "cell_type": "code",
   "execution_count": 2,
   "id": "c9016250",
   "metadata": {},
   "outputs": [
    {
     "name": "stdout",
     "output_type": "stream",
     "text": [
      "47.0 % of the audience will stand immediately after the lecture\n"
     ]
    },
    {
     "data": {
      "image/png": "[encoded data removed]",
      "text/plain": [
       "<Figure size 432x288 with 1 Axes>"
      ]
     },
     "metadata": {
      "needs_background": "light"
     },
     "output_type": "display_data"
    }
   ],
   "source": [
    "# theater size\n",
    "N = 10          \n",
    "time = 10    # max time step\n",
    "Q = 0.8   # quality of presentation (0-1)\n",
    "\n",
    "w1 = 0.5  #weight of introversion\n",
    "w2 = 1-w1 #weight of impression\n",
    "\n",
    "I = Q*(np.random.uniform(0,1,size=(N,N)))   # array representing how impressed the audience is\n",
    "\n",
    "S = np.random.uniform(0,1,size=(N,N))       # array representing how shy the audience is\n",
    "\n",
    "P = w1*S + w2*I                             #probability to stand-up\n",
    "\n",
    "CT = np.round(np.random.uniform(1,5,size=(N,N))) # copying tolerance \n",
    "\n",
    "x = np.arange(N)\n",
    "SO = np.zeros((N,N))\n",
    "\n",
    "# the first people to stand\n",
    "for i in x:\n",
    "    for j in x:\n",
    "        if (P[i,j]>0.5):\n",
    "            SO[i,j]=1\n",
    "        else:\n",
    "            SO[i,j]=0\n",
    "\n",
    "plt.figure()           \n",
    "plt.imshow(SO)\n",
    "print(np.sum(SO), '% of the audience will stand immediately after the lecture')"
   ]
  },
  {
   "cell_type": "code",
   "execution_count": 3,
   "id": "cac256c1",
   "metadata": {},
   "outputs": [
    {
     "name": "stdout",
     "output_type": "stream",
     "text": [
      "57.0 % of the audience will stand after ten iterations\n"
     ]
    },
    {
     "data": {
      "image/png": "[encoded data removed]",
      "text/plain": [
       "<Figure size 432x288 with 1 Axes>"
      ]
     },
     "metadata": {
      "needs_background": "light"
     },
     "output_type": "display_data"
    }
   ],
   "source": [
    "for t in (np.arange(time)):\n",
    "    for i in x:\n",
    "        for j in x:\n",
    "            if (SO[i,j]==0): \n",
    "                if (i<9 and j==0):\n",
    "                    neighbor = SO[i,j+1] + SO[i+1,j+1] + SO[i+1,j]\n",
    "                elif (i<9 and j==9):\n",
    "                    neighbor = SO[i,j-1] + SO[i+1,j-1] + SO[i+1,j]\n",
    "                elif (i==9 and j>0 and j<9):\n",
    "                    neighbor = SO[i,j-1] + SO[i,j+1]\n",
    "                elif (i==9 and j==0):\n",
    "                    neighbor = SO[i,j+1]\n",
    "                elif (i==9 and j==9):\n",
    "                    neighbor = SO[i,j-1]\n",
    "                else:\n",
    "                    neighbor = SO[i,j-1] + SO[i,j+1] + SO[i+1,j-1]+ SO[i+1,j+1] + SO[i+1,j]\n",
    "                \n",
    "                if (neighbor > CT[i,j]):\n",
    "                    SO[i,j]=1\n",
    "                else:\n",
    "                    SO[i,j]=0\n",
    "            else:\n",
    "                SO[i,j]=1\n",
    "plt.figure()\n",
    "plt.imshow(SO)\n",
    "print(np.sum(SO), '% of the audience will stand after ten iterations')"
   ]
  },
  {
   "cell_type": "markdown",
   "id": "c3875d84",
   "metadata": {},
   "source": [
    "The model parameters (time{number of iterations}, Q{quality of performance}, w1{weight of introversion} and CT {copying tolerance}) may be varied to check how it will affect the dynamics of the system (i.e. number of people who will do the standing ovation). "
   ]
  },
  {
   "cell_type": "markdown",
   "id": "5c5fcce9",
   "metadata": {},
   "source": [
    "### Reference\n",
    "[1] Miller J H & Page S E (2004) The Standing Ovation Problem. Complexity 9(5), pp. 8-16."
   ]
  }
 ],
 "metadata": {
  "kernelspec": {
   "display_name": "Python 3 (ipykernel)",
   "language": "python",
   "name": "python3"
  },
  "language_info": {
   "codemirror_mode": {
    "name": "ipython",
    "version": 3
   },
   "file_extension": ".py",
   "mimetype": "text/x-python",
   "name": "python",
   "nbconvert_exporter": "python",
   "pygments_lexer": "ipython3",
   "version": "3.8.8"
  }
 },
 "nbformat": 4,
 "nbformat_minor": 5
}
